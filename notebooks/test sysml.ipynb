{
  "cells": [
    {
      "cell_type": "code",
      "execution_count": null,
      "source": [
        "dotnet build ../Polyglot.Interactive.sln   -c Release\r\n",
        "dotnet pack ../Polyglot.Interactive.sln  --no-build -c Release /p:PackageVersion=4.0.1-beta86 -o ./packages\r\n"
      ],
      "outputs": [],
      "metadata": {
        "dotnet_interactive": {
          "language": "pwsh"
        }
      }
    },
    {
      "cell_type": "markdown",
      "source": [
        "# Load extension and submit code"
      ],
      "metadata": {}
    },
    {
      "cell_type": "code",
      "execution_count": null,
      "source": [
        "#i \"nuget:C:\\Users\\tomma\\Documents\\programs\\dotnet\\POLYGLOT\\notebooks\\packages\""
      ],
      "outputs": [],
      "metadata": {
        "dotnet_interactive": {
          "language": "csharp"
        }
      }
    },
    {
      "cell_type": "code",
      "execution_count": null,
      "source": [
        "#r \"nuget:Polyglot.Interactive,*-*\"\r\n"
      ],
      "outputs": [],
      "metadata": {
        "dotnet_interactive": {
          "language": "csharp"
        }
      }
    },
    {
      "cell_type": "markdown",
      "source": [
        "\n",
        "## Setup the notebook\n",
        "Make sure to specify your player id using the `--player-id` parameter"
      ],
      "metadata": {}
    },
    {
      "cell_type": "code",
      "execution_count": null,
      "source": [
        "#!start-game --player-id Stefazio --user-id demo.user@gmail.com --game-id 603fced708813b0001baa2cc --password 123456"
      ],
      "outputs": [],
      "metadata": {
        "dotnet_interactive": {
          "language": "csharp"
        }
      }
    },
    {
      "cell_type": "markdown",
      "source": [
        "## Step 1"
      ],
      "metadata": {}
    },
    {
      "cell_type": "code",
      "execution_count": null,
      "source": [
        "#!sysml\r\n",
        "package 'Part Definition Example' {\r\n",
        "\timport ScalarValues::*;\r\n",
        "\t\r\n",
        "\tpart def Vehicle {\r\n",
        "\t\tattribute mass : Real;\r\n",
        "\t}\r\n",
        "}"
      ],
      "outputs": [],
      "metadata": {
        "dotnet_interactive": {
          "language": "csharp"
        }
      }
    },
    {
      "cell_type": "markdown",
      "source": [
        "## Step 2"
      ],
      "metadata": {}
    },
    {
      "cell_type": "code",
      "execution_count": null,
      "source": [
        "#!sysml\r\n",
        "package 'Part Definition Example' {\r\n",
        "\timport ScalarValues::*;\r\n",
        "\t\r\n",
        "\tpart def Vehicle {\r\n",
        "\t\tattribute mass : Real;\r\n",
        "\t\tattribute status : VehicleStatus;\r\n",
        "\t}\r\n",
        "\t\r\n",
        "\tattribute def VehicleStatus {\r\n",
        "\t\tgearSetting : Integer;\r\n",
        "\t\tacceleratorPosition : Real;\r\n",
        "\t}\r\n",
        "}"
      ],
      "outputs": [],
      "metadata": {
        "dotnet_interactive": {
          "language": "csharp"
        }
      }
    },
    {
      "cell_type": "markdown",
      "source": [
        "## Step 3"
      ],
      "metadata": {}
    },
    {
      "cell_type": "code",
      "execution_count": null,
      "source": [
        "#!sysml\r\n",
        "package 'Part Definition Example' {\r\n",
        "\timport ScalarValues::*;\r\n",
        "\t\r\n",
        "\tpart def Vehicle {\r\n",
        "\t\tattribute mass : Real;\r\n",
        "\t\tattribute status : VehicleStatus;\r\n",
        "\t\t\r\n",
        "\t\tpart eng : Engine;\r\n",
        "\t\t\r\n",
        "\t\tref part driver : Person;\r\n",
        "\t}\r\n",
        "\t\r\n",
        "\tattribute def VehicleStatus {\r\n",
        "\t\tgearSetting : Integer;\r\n",
        "\t\tacceleratorPosition : Real;\r\n",
        "\t}\r\n",
        "\t\r\n",
        "\tpart def Engine;\t\r\n",
        "\tpart def Person;\r\n",
        "}"
      ],
      "outputs": [],
      "metadata": {
        "dotnet_interactive": {
          "language": "csharp"
        }
      }
    },
    {
      "cell_type": "markdown",
      "source": [
        "## Step 4"
      ],
      "metadata": {}
    },
    {
      "cell_type": "code",
      "execution_count": null,
      "source": [
        "public class Vehicle\r\n",
        "{\r\n",
        "    public float Mass { get; }\r\n",
        "}"
      ],
      "outputs": [],
      "metadata": {
        "dotnet_interactive": {
          "language": "csharp"
        }
      }
    },
    {
      "cell_type": "markdown",
      "source": [
        "## Step 5"
      ],
      "metadata": {}
    },
    {
      "cell_type": "code",
      "execution_count": null,
      "source": [
        "public class Vehicle\r\n",
        "{\r\n",
        "    public float Mass { get; }\r\n",
        "    public VehicleStatus Status { get; }\r\n",
        "}\r\n",
        "\r\n",
        "public class VehicleStatus\r\n",
        "{\r\n",
        "    public int GearSetting { get; }\r\n",
        "    public float AcceleratorPosition { get; }\r\n",
        "}"
      ],
      "outputs": [],
      "metadata": {
        "dotnet_interactive": {
          "language": "csharp"
        }
      }
    },
    {
      "cell_type": "markdown",
      "source": [
        "## Step 6"
      ],
      "metadata": {}
    },
    {
      "cell_type": "code",
      "execution_count": null,
      "source": [
        "public class Vehicle\r\n",
        "{\r\n",
        "    public float Mass { get; }\r\n",
        "    public VehicleStatus Status { get; }\r\n",
        "    public Engine Engine { get; }\r\n",
        "    public Person Driver { get; }\r\n",
        "}\r\n",
        "\r\n",
        "public class VehicleStatus\r\n",
        "{\r\n",
        "    public int GearSetting { get; }\r\n",
        "    public float AcceleratorPosition { get; }\r\n",
        "}\r\n",
        "\r\n",
        "public class Engine {}\r\n",
        "public class Person {}"
      ],
      "outputs": [],
      "metadata": {
        "dotnet_interactive": {
          "language": "csharp"
        }
      }
    }
  ],
  "metadata": {
    "kernelspec": {
      "display_name": ".NET (C#)",
      "language": "C#",
      "name": ".net-csharp"
    },
    "language_info": {
      "file_extension": ".cs",
      "mimetype": "text/x-csharp",
      "name": "csharp",
      "pygments_lexer": "csharp",
      "version": "8.0"
    }
  },
  "nbformat": 4,
  "nbformat_minor": 4
}