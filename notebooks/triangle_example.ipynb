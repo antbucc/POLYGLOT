{
  "cells": [
    {
      "cell_type": "markdown",
      "metadata": {},
      "source": [
        "# Compile and Pack\n",
        "execute this cell to create a new extension package, make sure to increase the version property eg\n",
        "```\n",
        "/p:PackageVersion=1.0.1-beta13\n",
        "\n",
        "to\n",
        "\n",
        "/p:PackageVersion=1.0.1-beta14\n",
        "```\n",
        "\n",
        "check the folder output\n",
        "```\n",
        "  Successfully created package 'output path \\notebooks\\packages\\Polyglot.Interactive.1.0.1-beta13.nupkg'.\n",
        "```\n",
        "\n",
        "copy the path only\n",
        "```\n",
        "output path \\notebooks\\packages\n",
        "```\n",
        "\n",
        "update the `#i` to use the output path\n",
        "```\n",
        "#i \"nuget:output path \\notebooks\\packages\"\n",
        "```"
      ]
    },
    {
      "cell_type": "code",
      "execution_count": null,
      "metadata": {
        "dotnet_interactive": {
          "language": "pwsh"
        }
      },
      "outputs": [],
      "source": [
        "dotnet build ../Polyglot.Interactive.sln\r\n",
        "\r\n",
        "dotnet pack ../Polyglot.Interactive.sln /p:PackageVersion=1.0.1-beta55 -o ./packages\r\n"
      ]
    },
    {
      "cell_type": "markdown",
      "metadata": {},
      "source": [
        "# Load extension and submit code"
      ]
    },
    {
      "cell_type": "code",
      "execution_count": null,
      "metadata": {
        "dotnet_interactive": {
          "language": "csharp"
        }
      },
      "outputs": [],
      "source": [
        "#i \"nuget:path to nuget\""
      ]
    },
    {
      "cell_type": "code",
      "execution_count": null,
      "metadata": {
        "dotnet_interactive": {
          "language": "csharp"
        }
      },
      "outputs": [],
      "source": [
        "#r \"nuget:Polyglot.Interactive,*-*\"\n"
      ]
    },
    {
      "cell_type": "markdown",
      "metadata": {},
      "source": [
        "\n",
        "## Setup the notebook\n",
        "Make sure to specify your player id using the `--player-id` parameter"
      ]
    },
    {
      "cell_type": "code",
      "execution_count": null,
      "metadata": {
        "dotnet_interactive": {
          "language": "csharp"
        }
      },
      "outputs": [],
      "source": [
        "#!start-game --player-id Stefazio --user-id papyrus --game-id 603fced708813b0001baa2cc --password papyrus0704!"
      ]
    },
    {
      "cell_type": "markdown",
      "metadata": {},
      "source": [
        "## Step 1\r\n",
        "Declare a public class named Triangle"
      ]
    },
    {
      "cell_type": "code",
      "execution_count": null,
      "metadata": {
        "dotnet_interactive": {
          "language": "csharp"
        }
      },
      "outputs": [],
      "source": [
        "public class Triangle {}"
      ]
    },
    {
      "cell_type": "markdown",
      "metadata": {},
      "source": [
        "## Step 2\r\n",
        "Add two private float fields named _base and _height"
      ]
    },
    {
      "cell_type": "code",
      "execution_count": null,
      "metadata": {
        "dotnet_interactive": {
          "language": "csharp"
        }
      },
      "outputs": [],
      "source": [
        "public class Triangle {\r\n",
        "    private float _base;\r\n",
        "    private float _height;\r\n",
        "}"
      ]
    },
    {
      "cell_type": "markdown",
      "metadata": {},
      "source": [
        "## Step 3\r\n",
        "Add a constructor with two float parameters: base and height"
      ]
    },
    {
      "cell_type": "code",
      "execution_count": null,
      "metadata": {
        "dotnet_interactive": {
          "language": "csharp"
        }
      },
      "outputs": [],
      "source": [
        "public class Triangle {\r\n",
        "    private float _base;\r\n",
        "    private float _height;\r\n",
        "\r\n",
        "    \r\n",
        "    public Triangle(float @base, float height) {\r\n",
        "        _base = @base;\r\n",
        "        _height = height;\r\n",
        "    }\r\n",
        "}"
      ]
    },
    {
      "cell_type": "markdown",
      "metadata": {},
      "source": [
        "## Step 4\r\n",
        "Add a public method calculateArea that returns triangle's area as a float"
      ]
    },
    {
      "cell_type": "code",
      "execution_count": null,
      "metadata": {
        "dotnet_interactive": {
          "language": "csharp"
        }
      },
      "outputs": [],
      "source": [
        "public class Triangle {\r\n",
        "    private float _base;\r\n",
        "    private float _height;\r\n",
        "\r\n",
        "    \r\n",
        "    public Triangle(float @base, float height) {\r\n",
        "        _base = @base;\r\n",
        "        _height = height;\r\n",
        "    }\r\n",
        "\r\n",
        "    public float calculateArea() {\r\n",
        "        return _base*_height/2;\r\n",
        "    }\r\n",
        "}"
      ]
    }
  ],
  "metadata": {
    "kernelspec": {
      "display_name": ".NET (C#)",
      "language": "C#",
      "name": ".net-csharp"
    },
    "language_info": {
      "file_extension": ".cs",
      "mimetype": "text/x-csharp",
      "name": "csharp",
      "pygments_lexer": "csharp",
      "version": "8.0"
    }
  },
  "nbformat": 4,
  "nbformat_minor": 4
}