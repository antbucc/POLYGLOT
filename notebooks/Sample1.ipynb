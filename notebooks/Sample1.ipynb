{
  "cells": [
    {
      "cell_type": "markdown",
      "metadata": {},
      "source": [
        "# Compile and Pack\n",
        "execute this cell to create a new extension package, make sure to increase the version property eg\n",
        "```\n",
        "/p:PackageVersion=1.0.1-beta13\n",
        "\n",
        "to\n",
        "\n",
        "/p:PackageVersion=1.0.1-beta14\n",
        "```\n",
        "\n",
        "check the folder output\n",
        "```\n",
        "  Successfully created package 'output path \\notebooks\\packages\\Polyglot.Interactive.1.0.1-beta13.nupkg'.\n",
        "```\n",
        "\n",
        "copy the path only\n",
        "```\n",
        "output path \\notebooks\\packages\n",
        "```\n",
        "\n",
        "update the `#i` to use the output path\n",
        "```\n",
        "#i \"nuget:output path \\notebooks\\packages\"\n",
        "```"
      ]
    },
    {
      "cell_type": "code",
      "execution_count": null,
      "metadata": {
        "dotnet_interactive": {
          "language": "pwsh"
        }
      },
      "outputs": [],
      "source": [
        "dotnet build ../src/Polyglot.Interactive/Polyglot.Interactive.csproj\n",
        "\n",
        "dotnet pack ../src/Polyglot.Interactive/Polyglot.Interactive.csproj /p:PackageVersion=1.0.1-beta51 -o ./packages\n"
      ]
    },
    {
      "cell_type": "markdown",
      "metadata": {},
      "source": [
        "# Load extension and submit code"
      ]
    },
    {
      "cell_type": "code",
      "execution_count": null,
      "metadata": {
        "dotnet_interactive": {
          "language": "csharp"
        }
      },
      "outputs": [],
      "source": [
        "#i \"nuget:path to nuget\""
      ]
    },
    {
      "cell_type": "code",
      "execution_count": null,
      "metadata": {
        "dotnet_interactive": {
          "language": "csharp"
        }
      },
      "outputs": [],
      "source": [
        "#r \"nuget:Polyglot.Interactive,*-*\"\n"
      ]
    },
    {
      "cell_type": "markdown",
      "metadata": {},
      "source": [
        "\n",
        "## Setup the notebook\n",
        "Make sure to specify your player id using the `--player-id` parameter"
      ]
    },
    {
      "cell_type": "code",
      "execution_count": null,
      "metadata": {
        "dotnet_interactive": {
          "language": "csharp"
        }
      },
      "outputs": [],
      "source": [
        "#!start-game --player-id Stefazio --user-id papyrus --game-id 603fced708813b0001baa2cc --password papyrus0704!"
      ]
    },
    {
      "cell_type": "code",
      "execution_count": null,
      "metadata": {
        "dotnet_interactive": {
          "language": "csharp"
        }
      },
      "outputs": [],
      "source": [
        "var a = 12;\n",
        "var b = 123;\n",
        "\n",
        "int DoIt(){\n",
        "    var r = 111111;\n",
        "    var rr = 111111;\n",
        "    var rrr = 111111;\n",
        "    var rrrr = 111111;\n",
        "    var rrrrr = 111111;\n",
        "    Task.Run(() => {\n",
        "        a = 12;\n",
        "    });\n",
        "    return 12;\n",
        "}\n",
        "\n",
        "DoIt();\n"
      ]
    },
    {
      "cell_type": "code",
      "execution_count": null,
      "metadata": {
        "dotnet_interactive": {
          "language": "csharp"
        }
      },
      "outputs": [],
      "source": [
        "var data = new []{ new { Nome=\"Nico\", Nazione = \"Jamaica\"} };\n",
        "\n",
        "var filtrate = data.Where(d => d.Nazione == \"Jamaica\").Select(d => d.Nome);"
      ]
    },
    {
      "cell_type": "code",
      "execution_count": null,
      "metadata": {
        "dotnet_interactive": {
          "language": "csharp"
        }
      },
      "outputs": [],
      "source": [
        "#!game-status"
      ]
    },
    {
      "cell_type": "code",
      "execution_count": null,
      "metadata": {
        "dotnet_interactive": {
          "language": "csharp"
        }
      },
      "outputs": [],
      "source": [
        "#!start-game --help"
      ]
    }
  ],
  "metadata": {
    "kernelspec": {
      "display_name": ".NET (C#)",
      "language": "C#",
      "name": ".net-csharp"
    },
    "language_info": {
      "file_extension": ".cs",
      "mimetype": "text/x-csharp",
      "name": "C#",
      "pygments_lexer": "csharp",
      "version": "8.0"
    }
  },
  "nbformat": 4,
  "nbformat_minor": 4
}