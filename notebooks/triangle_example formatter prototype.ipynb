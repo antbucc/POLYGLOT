{
  "cells": [
    {
      "cell_type": "code",
      "execution_count": null,
      "metadata": {
        "dotnet_interactive": {
          "language": "pwsh"
        }
      },
      "outputs": [],
      "source": [
        "dotnet build ../Polyglot.Interactive.sln"
      ]
    },
    {
      "cell_type": "markdown",
      "metadata": {},
      "source": [
        "# Load extension and submit code"
      ]
    },
    {
      "cell_type": "code",
      "execution_count": null,
      "metadata": {
        "dotnet_interactive": {
          "language": "csharp"
        }
      },
      "outputs": [],
      "source": [
        "#r \"../src/Polyglot.Interactive/bin/Debug/net5.0/Polyglot.Interactive.dll\"\r\n"
      ]
    },
    {
      "cell_type": "code",
      "execution_count": null,
      "metadata": {
        "dotnet_interactive": {
          "language": "csharp"
        }
      },
      "outputs": [
        {
          "data": {
            "text/markdown": "Installed Game Engine Integration for `csharp Kernel`."
          },
          "output_type": "unknown"
        }
      ],
      "source": [
        "using Polyglot.Interactive;\r\n",
        "using Microsoft.DotNet.Interactive;\r\n",
        "using Polyglot.Core;\r\n",
        "using Polyglot.CSharp;\r\n",
        "\r\n",
        "var extension = new KernelExtension();\r\n",
        "await extension.OnLoadAsync(Kernel.Root);\r\n"
      ]
    },
    {
      "cell_type": "code",
      "execution_count": null,
      "metadata": {
        "dotnet_interactive": {
          "language": "csharp"
        }
      },
      "outputs": [],
      "source": [
        "using System;\r\n",
        "using System.Net.Http;\r\n",
        "using System.Threading.Tasks;\r\n",
        "using Microsoft.DotNet.Interactive;\r\n",
        "using Microsoft.DotNet.Interactive.Formatting;\r\n",
        "using Polyglot.Core;\r\n",
        "using Polyglot.CSharp;\r\n",
        "\r\n",
        "using static Microsoft.DotNet.Interactive.Formatting.PocketViewTags;\r\n",
        "\r\n",
        "Formatter.Register<GameStateReport>((report, writer)=>\r\n",
        "{\r\n",
        "    string scoreImage = (int)report.Points switch\r\n",
        "    {\r\n",
        "        int n when (0 <= n && n <= 15) => \"https://img-premium.flaticon.com/png/512/132/132268.png?token=exp=1621862049~hmac=98ca862d52589f9f24a042d968629476\",\r\n",
        "        int n when (15 < n && n <= 30) => \"https://img-premium.flaticon.com/png/512/132/132272.png?token=exp=1621862102~hmac=1f9149d59b300dcee8d56480655d9c98\",\r\n",
        "        int n when (30 < n && n <= 50) => \"https://img-premium.flaticon.com/png/512/132/132233.png?token=exp=1621862133~hmac=782c516c9a4d23fb6397f7d6a69ea932\",\r\n",
        "        int n when (50 < n && n <= 75) => \"https://img-premium.flaticon.com/png/512/132/132269.png?token=exp=1621862135~hmac=5421b42cf5d63ddefe2dec47d1e70597\",\r\n",
        "        int n when (75 < n && n <= 100) => \"https://img-premium.flaticon.com/png/512/132/132250.png?token=exp=1621862139~hmac=92483f00db5c501effec203fd5534ba7\",\r\n",
        "        _ => \"https://img-premium.flaticon.com/png/512/132/132250.png?token=exp=1621862139~hmac=92483f00db5c501effec203fd5534ba7\"\r\n",
        "    };\r\n",
        "\r\n",
        "    var feedbackDisplay = report.Feedback == \"\" ? \"display:none\" : \"\";\r\n",
        "    var divStyle = \"font-size: 2em; display: flex; justify-content: center; align-items: center\";\r\n",
        "\r\n",
        "    var html = div[style: \"width:750px; border: 1px solid black;\"](\r\n",
        "        h1(\"Feedback\"),\r\n",
        "        table(\r\n",
        "            tr(\r\n",
        "                td[style: \"width: 50px\"](\"Level:\"), td[style: \"width:150px\"](div[style: divStyle](report.CurrentLevel)),\r\n",
        "                td[style: \"width: 50px\"](\"Score:\"), td[style: \"width:150px\"](div[style: divStyle](img[src: scoreImage, style: \"height:2em\", alt: \"sutus\"])),\r\n",
        "                td[style: \"width: 50px\"](\"Coins:\"), td[style: \"width:250px\"](div[style: divStyle]($\"{report.GoldCoins} x\", img[src: \"https://www.iconpacks.net/icons/1/free-icon-coin-794.png\", style: \"margin-left: 5px; height:2em\"]))\r\n",
        "            ),\r\n",
        "            tr[style: feedbackDisplay](\r\n",
        "                td[style: \"width: 50px\"](\"Feedback\"),\r\n",
        "                td[\"colspan='5'\"](report.Feedback)\r\n",
        "            )\r\n",
        "        )\r\n",
        "    );\r\n",
        "    writer.Write(html);\r\n",
        "}, HtmlFormatter.MimeType);\r\n",
        "\r\n",
        "// TODO: credits to artist\r\n",
        "// <div>Icons made by <a href=\"https://www.flaticon.com/authors/baianat\" title=\"Baianat\">Baianat</a> from <a href=\"https://www.flaticon.com/\" title=\"Flaticon\">www.flaticon.com</a></div>"
      ]
    },
    {
      "cell_type": "code",
      "execution_count": null,
      "metadata": {
        "dotnet_interactive": {
          "language": "csharp"
        }
      },
      "outputs": [
        {
          "data": {
            "text/html": "<div style=\"width:750px; border: 1px solid black;\"><h1>Feedback</h1><table><tr><td style=\"width: 50px\">Level:</td><td style=\"width:150px\"><div style=\"font-size: 2em; display: flex; justify-content: center; align-items: center\">1</div></td><td style=\"width: 50px\">Score:</td><td style=\"width:150px\"><div style=\"font-size: 2em; display: flex; justify-content: center; align-items: center\"><img src=\"https://img-premium.flaticon.com/png/512/132/132268.png?token=exp=1621862049~hmac=98ca862d52589f9f24a042d968629476\" style=\"height:2em\" alt=\"sutus\"></img></div></td><td style=\"width: 50px\">Coins:</td><td style=\"width:250px\"><div style=\"font-size: 2em; display: flex; justify-content: center; align-items: center\">0 x<img src=\"https://www.iconpacks.net/icons/1/free-icon-coin-794.png\" style=\"margin-left: 5px; height:2em\"></img></div></td></tr><tr style=\"\"><td style=\"width: 50px\">Feedback</td><td colspan='5'>Names in programming should be meaningful. We are using constructor parameters to initialize the values of our Triangle. If we need to initialize the Base, we should call the parameter base. Take a look at https://en.wikipedia.org/wiki/Naming_convention_(programming)</td></tr></table></div>"
          },
          "output_type": "unknown"
        }
      ],
      "source": [
        "var report = new GameStateReport(\"1\", 0, 0, \"Names in programming should be meaningful. We are using constructor parameters to initialize the values of our Triangle. If we need to initialize the Base, we should call the parameter base. Take a look at https://en.wikipedia.org/wiki/Naming_convention_(programming)\");\r\n",
        "var display = report.Display();\r\n",
        "\r\n",
        "var updates = new[] {\r\n",
        "    new GameStateReport(\"2\", 20, 3, \"\"),\r\n",
        "    new GameStateReport(\"3\", 40, 5, \"Names in programming should be meaningful. We are using constructor parameters to initialize the values of our Triangle. If we need to initialize the Base, we should call the parameter base. Take a look at https://en.wikipedia.org/wiki/Naming_convention_(programming)\"),\r\n",
        "    new GameStateReport(\"4\", 60, 8, \"\"),\r\n",
        "    new GameStateReport(\"5\", 80, 13, \"\")\r\n",
        "};\r\n",
        "\r\n",
        "// foreach(var update in updates) {\r\n",
        "//     await Task.Delay(2000);\r\n",
        "//     display.Update(update);\r\n",
        "// }"
      ]
    },
    {
      "cell_type": "markdown",
      "metadata": {},
      "source": [
        "\n",
        "## Setup the notebook\n",
        "Make sure to specify your player id using the `--player-id` parameter"
      ]
    },
    {
      "cell_type": "code",
      "execution_count": null,
      "metadata": {
        "dotnet_interactive": {
          "language": "csharp"
        }
      },
      "outputs": [],
      "source": [
        "#!start-game --player-id Stefazio --user-id papyrus --game-id 603fced708813b0001baa2cc --password papyrus0704!"
      ]
    },
    {
      "cell_type": "markdown",
      "metadata": {},
      "source": [
        "## Step 1\r\n",
        "Declare a public class named Triangle"
      ]
    },
    {
      "cell_type": "code",
      "execution_count": null,
      "metadata": {
        "dotnet_interactive": {
          "language": "csharp"
        }
      },
      "outputs": [],
      "source": [
        "public class Triangle {}"
      ]
    },
    {
      "cell_type": "markdown",
      "metadata": {},
      "source": [
        "## Step 2\r\n",
        "Add two private float fields named _base and _height"
      ]
    },
    {
      "cell_type": "code",
      "execution_count": null,
      "metadata": {
        "dotnet_interactive": {
          "language": "csharp"
        }
      },
      "outputs": [],
      "source": [
        "public class Triangle {\r\n",
        "    private float _base;\r\n",
        "    private float _height;\r\n",
        "}"
      ]
    },
    {
      "cell_type": "markdown",
      "metadata": {},
      "source": [
        "## Step 3\r\n",
        "Add a constructor with two float parameters: base and height"
      ]
    },
    {
      "cell_type": "code",
      "execution_count": null,
      "metadata": {
        "dotnet_interactive": {
          "language": "csharp"
        }
      },
      "outputs": [],
      "source": [
        "public class Triangle {\r\n",
        "    private float _base;\r\n",
        "    private float _height;\r\n",
        "\r\n",
        "    \r\n",
        "    public Triangle(float @base, float height) {\r\n",
        "        _base = @base;\r\n",
        "        _height = height;\r\n",
        "    }\r\n",
        "}"
      ]
    },
    {
      "cell_type": "markdown",
      "metadata": {},
      "source": [
        "## Step 4\r\n",
        "Add a public method calculateArea that returns triangle's area as a float"
      ]
    },
    {
      "cell_type": "code",
      "execution_count": null,
      "metadata": {
        "dotnet_interactive": {
          "language": "csharp"
        }
      },
      "outputs": [],
      "source": [
        "public class Triangle {\r\n",
        "    private float _base;\r\n",
        "    private float _height;\r\n",
        "\r\n",
        "    \r\n",
        "    public Triangle(float @base, float height) {\r\n",
        "        _base = @base;\r\n",
        "        _height = height;\r\n",
        "    }\r\n",
        "\r\n",
        "    public float calculateArea() {\r\n",
        "        return _base*_height/2;\r\n",
        "    }\r\n",
        "}"
      ]
    }
  ],
  "metadata": {
    "kernelspec": {
      "display_name": ".NET (C#)",
      "language": "C#",
      "name": ".net-csharp"
    },
    "language_info": {
      "file_extension": ".cs",
      "mimetype": "text/x-csharp",
      "name": "C#",
      "pygments_lexer": "csharp",
      "version": "9.0"
    }
  },
  "nbformat": 4,
  "nbformat_minor": 4
}