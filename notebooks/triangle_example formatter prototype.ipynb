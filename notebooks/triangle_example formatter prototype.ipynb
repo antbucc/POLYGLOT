{
  "cells": [
    {
      "cell_type": "code",
      "execution_count": null,
      "metadata": {
        "dotnet_interactive": {
          "language": "pwsh"
        }
      },
      "outputs": [],
      "source": [
        "dotnet build ../Polyglot.Interactive.sln"
      ]
    },
    {
      "cell_type": "markdown",
      "metadata": {},
      "source": [
        "# Load extension and submit code"
      ]
    },
    {
      "cell_type": "code",
      "execution_count": null,
      "metadata": {
        "dotnet_interactive": {
          "language": "csharp"
        }
      },
      "outputs": [],
      "source": [
        "#r \"../src/Polyglot.Interactive/bin/Debug/net5.0/Polyglot.Interactive.dll\"\r\n"
      ]
    },
    {
      "cell_type": "code",
      "execution_count": null,
      "metadata": {
        "dotnet_interactive": {
          "language": "csharp"
        }
      },
      "outputs": [
        {
          "data": {
            "text/markdown": "Installed Game Engine Integration for `csharp Kernel`."
          },
          "output_type": "unknown"
        }
      ],
      "source": [
        "using Polyglot.Interactive;\r\n",
        "using Microsoft.DotNet.Interactive;\r\n",
        "using Polyglot.Core;\r\n",
        "using Polyglot.CSharp;\r\n",
        "\r\n",
        "var extension = new KernelExtension();\r\n",
        "await extension.OnLoadAsync(Kernel.Root);\r\n"
      ]
    },
    {
      "cell_type": "code",
      "execution_count": null,
      "metadata": {
        "dotnet_interactive": {
          "language": "csharp"
        }
      },
      "outputs": [],
      "source": [
        "using System;\r\n",
        "using System.Net.Http;\r\n",
        "using System.Threading.Tasks;\r\n",
        "using Microsoft.DotNet.Interactive;\r\n",
        "using Microsoft.DotNet.Interactive.Formatting;\r\n",
        "using Polyglot.Core;\r\n",
        "using Polyglot.CSharp;\r\n",
        "\r\n",
        "using static Microsoft.DotNet.Interactive.Formatting.PocketViewTags;\r\n",
        "\r\n",
        "Formatter.Register<GameStateReport>(( report,  writer)=>\r\n",
        "{\r\n",
        "    var color = report.Points > 0 ? \"green\" : \"red\";\r\n",
        "    var coins = Enumerable.Range(0, (int)report.GoldCoins)\r\n",
        "        .Select(_ => img[src: \"https://upload.wikimedia.org/wikipedia/commons/d/d6/Gold_coin_icon.png\", style: \"height:1.5em\"]);\r\n",
        "    var html = div[style: \"width:100px\"](\r\n",
        "        table(\r\n",
        "            tr(td(\"Current Level\"), td[style: $\"color:{color}; width:100px\"](report.CurrentLevel)),\r\n",
        "            tr(td(\"Coins\"), td[style: $\"color:{color}\"](coins))\r\n",
        "        )\r\n",
        "    );\r\n",
        "    writer.Write(html);\r\n",
        "}, HtmlFormatter.MimeType);"
      ]
    },
    {
      "cell_type": "code",
      "execution_count": null,
      "metadata": {
        "dotnet_interactive": {
          "language": "csharp"
        }
      },
      "outputs": [
        {
          "data": {
            "text/html": "<div style=\"width:100px\"><table><tr><td>Current Level</td><td style=\"color:red; width:100px\">stiappa</td></tr><tr><td>Coins</td><td style=\"color:red\"><img src=\"https://upload.wikimedia.org/wikipedia/commons/d/d6/Gold_coin_icon.png\" style=\"height:1.5em\"></img><img src=\"https://upload.wikimedia.org/wikipedia/commons/d/d6/Gold_coin_icon.png\" style=\"height:1.5em\"></img><img src=\"https://upload.wikimedia.org/wikipedia/commons/d/d6/Gold_coin_icon.png\" style=\"height:1.5em\"></img><img src=\"https://upload.wikimedia.org/wikipedia/commons/d/d6/Gold_coin_icon.png\" style=\"height:1.5em\"></img><img src=\"https://upload.wikimedia.org/wikipedia/commons/d/d6/Gold_coin_icon.png\" style=\"height:1.5em\"></img></td></tr></table></div>"
          },
          "output_type": "unknown"
        }
      ],
      "source": [
        "var report = new GameStateReport(\"stiappa\", 0, 5, \"fai cacare\");\r\n",
        "report.Display();"
      ]
    },
    {
      "cell_type": "markdown",
      "metadata": {},
      "source": [
        "\n",
        "## Setup the notebook\n",
        "Make sure to specify your player id using the `--player-id` parameter"
      ]
    },
    {
      "cell_type": "code",
      "execution_count": null,
      "metadata": {
        "dotnet_interactive": {
          "language": "csharp"
        }
      },
      "outputs": [],
      "source": [
        "#!start-game --player-id Stefazio --user-id papyrus --game-id 603fced708813b0001baa2cc --password papyrus0704!"
      ]
    },
    {
      "cell_type": "markdown",
      "metadata": {},
      "source": [
        "## Step 1\r\n",
        "Declare a public class named Triangle"
      ]
    },
    {
      "cell_type": "code",
      "execution_count": null,
      "metadata": {
        "dotnet_interactive": {
          "language": "csharp"
        }
      },
      "outputs": [],
      "source": [
        "public class Triangle {}"
      ]
    },
    {
      "cell_type": "markdown",
      "metadata": {},
      "source": [
        "## Step 2\r\n",
        "Add two private float fields named _base and _height"
      ]
    },
    {
      "cell_type": "code",
      "execution_count": null,
      "metadata": {
        "dotnet_interactive": {
          "language": "csharp"
        }
      },
      "outputs": [],
      "source": [
        "public class Triangle {\r\n",
        "    private float _base;\r\n",
        "    private float _height;\r\n",
        "}"
      ]
    },
    {
      "cell_type": "markdown",
      "metadata": {},
      "source": [
        "## Step 3\r\n",
        "Add a constructor with two float parameters: base and height"
      ]
    },
    {
      "cell_type": "code",
      "execution_count": null,
      "metadata": {
        "dotnet_interactive": {
          "language": "csharp"
        }
      },
      "outputs": [],
      "source": [
        "public class Triangle {\r\n",
        "    private float _base;\r\n",
        "    private float _height;\r\n",
        "\r\n",
        "    \r\n",
        "    public Triangle(float @base, float height) {\r\n",
        "        _base = @base;\r\n",
        "        _height = height;\r\n",
        "    }\r\n",
        "}"
      ]
    },
    {
      "cell_type": "markdown",
      "metadata": {},
      "source": [
        "## Step 4\r\n",
        "Add a public method calculateArea that returns triangle's area as a float"
      ]
    },
    {
      "cell_type": "code",
      "execution_count": null,
      "metadata": {
        "dotnet_interactive": {
          "language": "csharp"
        }
      },
      "outputs": [],
      "source": [
        "public class Triangle {\r\n",
        "    private float _base;\r\n",
        "    private float _height;\r\n",
        "\r\n",
        "    \r\n",
        "    public Triangle(float @base, float height) {\r\n",
        "        _base = @base;\r\n",
        "        _height = height;\r\n",
        "    }\r\n",
        "\r\n",
        "    public float calculateArea() {\r\n",
        "        return _base*_height/2;\r\n",
        "    }\r\n",
        "}"
      ]
    }
  ],
  "metadata": {
    "kernelspec": {
      "display_name": ".NET (C#)",
      "language": "C#",
      "name": ".net-csharp"
    },
    "language_info": {
      "file_extension": ".cs",
      "mimetype": "text/x-csharp",
      "name": "csharp",
      "pygments_lexer": "csharp",
      "version": "8.0"
    }
  },
  "nbformat": 4,
  "nbformat_minor": 4
}