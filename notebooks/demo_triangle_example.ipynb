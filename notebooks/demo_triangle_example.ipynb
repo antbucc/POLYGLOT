{
  "cells": [
    {
      "cell_type": "code",
      "execution_count": null,
      "metadata": {
        "dotnet_interactive": {
          "language": "csharp"
        }
      },
      "outputs": [
        {
          "data": {
            "application/x.notebook.error-traceback": "{\"ename\":\"Error\",\"evalue\":\"Error executing cell: Error: Unable to get interactive launch options.  Please see the '.NET Interactive : diagnostics' output window for details.\",\"traceback\":[]}"
          },
          "output_type": "unknown"
        }
      ],
      "source": [
        "#i \"nuget:C:\\Users\\tomma\\Documents\\programs\\dotnet\\POLYGLOT\\notebooks\\packages\"\r\n",
        "#r \"nuget:Polyglot.Interactive,*-*\""
      ]
    },
    {
      "cell_type": "markdown",
      "metadata": {},
      "source": [
        "## Setup the notebook  \r\n",
        "First execute this cell to configure the polyglot package.  \r\n",
        "Make sure to specify your player id using the `--player-id` parameter  "
      ]
    },
    {
      "cell_type": "code",
      "execution_count": null,
      "metadata": {
        "dotnet_interactive": {
          "language": "csharp"
        }
      },
      "outputs": [
        {
          "data": {
            "text/markdown": [
              "Game Engine configuration is now complete."
            ]
          },
          "output_type": "unknown"
        }
      ],
      "source": [
        "#!start-game --player-id testUser-2021-06-01-35 --user-id demo.user@gmail.com --game-id 603fced708813b0001baa2cc --password 123456"
      ]
    },
    {
      "cell_type": "markdown",
      "metadata": {},
      "source": [
        "# Learn how to put geometry into code using C# classes\r\n",
        "In this exercise, we will build a class representing a Triangle.  \r\n",
        "The data we want to capture about a specific triangle is its height and its base (as float values).  \r\n",
        "We also would like to be able to calculate its area.  \r\n",
        "<br/><br/>\r\n",
        "Remember to submit your code at each step!\r\n",
        "<br/><br/>\r\n",
        "Classes are a sort of blueprint that define the behavior and information our objects will contain.\r\n",
        "<br/><br/>\r\n",
        "Classes are declared by using the class keyword followed by a unique identifier, as shown in the following example from MSDN:\r\n",
        "<br/>\r\n",
        "```\r\n",
        "[access modifier] - [class] - [identifier]  \r\n",
        "public class Customer   \r\n",
        "{  \r\n",
        "   // Fields, properties, methods and events go here...  \r\n",
        "}\r\n",
        "```\r\n",
        "<br/>\r\n",
        "First declare a public class named Triangle and submit your code.  \r\n",
        "<br/><br/>\r\n",
        "We said that we that the information we want about a Triangle are its base and its height.<br/>\r\n",
        "Edit the code you wrote adding two public properties with both a getter and a setter.\r\n",
        "<br/><br/>\r\n",
        "Classes are built using their constructor.<br/>\r\n",
        "Let's declare a custom constructor for our Triangle with two parameters: base and height.\r\n",
        "<br/><br/>\r\n",
        "We are almost there!<br/>\r\n",
        "Our definition only lacks the CalculateArea method. Try to add it and remember that our method doesn't need any parameter.\r\n",
        "<br/><br/>\r\n",
        "Now that our class is ready to be used we should test it!<br/>\r\n",
        "Add a new cell, declare a variable named 'triangle' containing an instance of our Triangle (give the constructor the arguments 12 for the base and 10 for the height) and\r\n",
        "    a float variable named 'area' containing the result of triangle.CalculateArea()"
      ]
    },
    {
      "cell_type": "code",
      "execution_count": null,
      "metadata": {
        "dotnet_interactive": {
          "language": "csharp"
        }
      },
      "outputs": [
        {
          "data": {
            "text/html": [
              "<div style=\"width:800px; border: 1px solid black; padding: 5px\"><h1 style=\"margin-left: 10px\">Report</h1><table><tr><td style=\"width: 50px\">Level:</td><td style=\"width:150px\"><div style=\"font-size: 2em; display: flex; justify-content: center; align-items: center\">4</div></td><td style=\"width: 50px\">Exercise Points:</td><td style=\"width:150px\"><div style=\"font-size: 2em; display: flex; justify-content: center; align-items: center\"><div class=\"dni-plaintext\">10</div></div></td><td style=\"width: 50px\">Assignment Score:</td><td style=\"width:150px\"><div style=\"font-size: 2em; display: flex; justify-content: center; align-items: center\"><img src=\"https://img-premium.flaticon.com/png/512/132/132269.png?token=exp=1621862135~hmac=5421b42cf5d63ddefe2dec47d1e70597\" style=\"height:2em\"></img></div></td><td style=\"width: 50px\">Coins:</td><td style=\"width:150px\"><div style=\"font-size: 2em; display: flex; justify-content: center; align-items: center\">3 x<img src=\"https://www.iconpacks.net/icons/1/free-icon-coin-794.png\" style=\"margin-left: 5px; height:2em\"></img></div></td></tr></table><h2 style=\"margin-left: 10px;display:none\">Feedbacks</h2><table></table></div>"
            ]
          },
          "output_type": "unknown"
        }
      ],
      "source": [
        "public class Triangle \r\n",
        "{\r\n",
        "    public float Base { get; set; }\r\n",
        "    public float Height { get; set; }\r\n",
        "\r\n",
        "    public Triangle(float @base, float height) \r\n",
        "    {\r\n",
        "        Base = @base;\r\n",
        "        Height = height;\r\n",
        "    }\r\n",
        "\r\n",
        "    public float CalculateArea()\r\n",
        "    {\r\n",
        "        return Base*Height/2;\r\n",
        "    }\r\n",
        "}"
      ]
    },
    {
      "cell_type": "code",
      "execution_count": null,
      "metadata": {
        "dotnet_interactive": {
          "language": "csharp"
        }
      },
      "outputs": [
        {
          "data": {
            "text/html": [
              "<div style=\"width:800px; border: 1px solid black; padding: 5px\"><h1 style=\"margin-left: 10px\">Report</h1><table><tr><td style=\"width: 50px\">Level:</td><td style=\"width:150px\"><div style=\"font-size: 2em; display: flex; justify-content: center; align-items: center\">4</div></td><td style=\"width: 50px\">Exercise Points:</td><td style=\"width:150px\"><div style=\"font-size: 2em; display: flex; justify-content: center; align-items: center\"><div class=\"dni-plaintext\">10</div></div></td><td style=\"width: 50px\">Assignment Score:</td><td style=\"width:150px\"><div style=\"font-size: 2em; display: flex; justify-content: center; align-items: center\"><img src=\"https://img-premium.flaticon.com/png/512/132/132269.png?token=exp=1621862135~hmac=5421b42cf5d63ddefe2dec47d1e70597\" style=\"height:2em\"></img></div></td><td style=\"width: 50px\">Coins:</td><td style=\"width:150px\"><div style=\"font-size: 2em; display: flex; justify-content: center; align-items: center\">3 x<img src=\"https://www.iconpacks.net/icons/1/free-icon-coin-794.png\" style=\"margin-left: 5px; height:2em\"></img></div></td></tr></table><h2 style=\"margin-left: 10px;display:none\">Feedbacks</h2><table></table></div>"
            ]
          },
          "output_type": "unknown"
        }
      ],
      "source": [
        "var triangle = new Triangle(12, 10);\r\n",
        "var area = triangle.CalculateArea();"
      ]
    }
  ],
  "metadata": {
    "kernelspec": {
      "display_name": ".NET (C#)",
      "language": "C#",
      "name": ".net-csharp"
    },
    "language_info": {
      "name": "C#",
      "version": ""
    }
  },
  "nbformat": 4,
  "nbformat_minor": 4
}