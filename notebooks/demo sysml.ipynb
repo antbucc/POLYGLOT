{
 "metadata": {
  "kernelspec": {
   "display_name": ".NET (C#)",
   "language": "C#",
   "name": ".net-csharp"
  },
  "language_info": {
   "name": "C#"
  }
 },
 "cells": [
  {
   "cell_type": "code",
   "execution_count": null,
   "source": [
    "#r \"nuget:Polyglot.Interactive,*-*\""
   ],
   "outputs": [],
   "metadata": {
    "dotnet_interactive": {
     "language": "csharp"
    }
   }
  },
  {
   "cell_type": "code",
   "execution_count": null,
   "source": [
    "#!start-game --player-id sysmlDemoPlayer --user-id demo.sysml@email.com --game-id 60f8513108813b0001951814 --password 123456"
   ],
   "outputs": [],
   "metadata": {
    "dotnet_interactive": {
     "language": "csharp"
    }
   }
  },
  {
   "cell_type": "markdown",
   "source": [
    "# Part 1: SysML\r\n",
    "\r\n",
    "When building a system, you always need to create an abstract definition of the underlying real thing. That definition process, together with other tasks, is known as modeling.  \r\n",
    "You are going to use SysML to create the abstract definition of a vehicle.  \r\n",
    "The features we are interested in are the vehicle mass, it's status, it's engine, and it's driver.  \r\n",
    "> **_NOTE:_**  Type your code in the cell below, after the ``` #!sysml ``` command  \r\n",
    "\r\n",
    "<br/>\r\n",
    "\r\n",
    "## Step 1\r\n",
    "\r\n",
    "Write a part definition named \"Vehicle\" that has a single attribute \"mass\" of type \"Real\".  \r\n",
    "The Vehicle must be part of a package named \"Vehicle Exercise\".  \r\n",
    "\r\n",
    "> **_REMEMBER:_**  To use the type \"Real\" you need to import the package ScalarValues with ``` import ScalarValues::*; ```  \r\n",
    "\r\n",
    "<br/>\r\n",
    "\r\n",
    "## Step 2\r\n",
    "\r\n",
    "Now let's focus on the status. We would like a more complex information to describe the vehicle status.  \r\n",
    "The status is described by a gear setting and an accelerator position.  \r\n",
    "Change the code you wrote earlier and a new attribute definition \"VehicleStatus\" that has two attributes \"gearSetting\" of type \"Integer\" and \"acceleratorPosition\" of type \"Real\",\r\n",
    "then change the Vehicle and \"status\" as an attribute.\r\n",
    "\r\n",
    "## Step 3\r\n",
    "\r\n",
    "We are almost done. Let's finalize the model with the engine and the driver.  \r\n",
    "Define two parts \"Engine\" and \"Person\", then add the two parts (\"eng\" of type \"Engine\" and \"driver\" of type \"Person\") to your Vehicle.  \r\n",
    "Then move to part 2.\r\n"
   ],
   "metadata": {
    "dotnet_interactive": {
     "language": "csharp"
    }
   }
  },
  {
   "cell_type": "code",
   "execution_count": null,
   "source": [
    "#!sysml\r\n"
   ],
   "outputs": [],
   "metadata": {
    "dotnet_interactive": {
     "language": "csharp"
    }
   }
  },
  {
   "cell_type": "markdown",
   "source": [
    "# Part 2: C\\#\r\n",
    "\r\n",
    "Now let's focus on the coding part. In this part you will transform your model into actual working C# code.\r\n",
    "\r\n",
    "## Step 4\r\n",
    "\r\n",
    "Transform the vehicle definition of the first step into a public class \"Vehicle\" with a property \"Mass\" of type \"float\" with a getter.  \r\n",
    "\r\n",
    "## Step 5\r\n",
    "\r\n",
    "Another class is needed for the status definition.  \r\n",
    "Declare a public class \"VehicleStatus\" with two properties \"GearSetting\" of type \"int\" and \"AcceleratorPosition\" of type \"float\", both of them with a getter, then add the \"Status\" property to your Vehicle\r\n",
    "\r\n",
    "## Step 6\r\n",
    "\r\n",
    "We are almost done. Let's finalize the model with the engine and the driver.  \r\n",
    "Create two empty, public classes \"Engine\" and \"Person\", then add two properties (\"Engine\" of type \"Engine\" and \"Driver\" of type \"Person\", both with a getter) to your Vehicle.\r\n"
   ],
   "metadata": {}
  },
  {
   "cell_type": "code",
   "execution_count": null,
   "source": [],
   "outputs": [],
   "metadata": {
    "dotnet_interactive": {
     "language": "csharp"
    }
   }
  }
 ],
 "nbformat": 4,
 "nbformat_minor": 2
}